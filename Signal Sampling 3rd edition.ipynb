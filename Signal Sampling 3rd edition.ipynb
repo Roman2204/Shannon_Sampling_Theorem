{
 "metadata": {
  "name": "",
  "signature": "sha256:0f0aba4e8bd2f5c1910799acd395cf04d88c3c52ca8919b1e8d73ba7ff68bc1c"
 },
 "nbformat": 3,
 "nbformat_minor": 0,
 "worksheets": [
  {
   "cells": [
    {
     "cell_type": "code",
     "collapsed": false,
     "input": [
      "import math\n",
      "import matplotlib.pyplot as plt\n",
      "import matplotlib.gridspec as gridspec\n",
      "from numpy import *\n",
      "\n",
      "from scipy import signal"
     ],
     "language": "python",
     "metadata": {},
     "outputs": [],
     "prompt_number": 561
    },
    {
     "cell_type": "markdown",
     "metadata": {},
     "source": [
      "### Contiguous sinusoidal signal function"
     ]
    },
    {
     "cell_type": "code",
     "collapsed": false,
     "input": [
      "def Contiguous_sinusoidal_signal(t):\n",
      "    return np.cos( 2 * np.pi * f * t ) * np.sin( np.pi * f * t )\n",
      "    #return np.cos( 3 * f * t ) + np.sin( 2 * f * t )\n",
      "    #return signal.sawtooth(2 * np.pi * f * t)"
     ],
     "language": "python",
     "metadata": {},
     "outputs": [],
     "prompt_number": 562
    },
    {
     "cell_type": "code",
     "collapsed": false,
     "input": [
      "f = 10.0  # Hz, signal frequency\n",
      "fs = 20.0 # Hz, sampling rate (ie. >= 2*f) \n",
      "nCyl = 5.0 #generate five cycles of sinusoid\n",
      "t = linspace(0, float(nCyl)/f, 10000)\n",
      "ts = linspace(-float(nCyl)/f,\n",
      "              2*float(nCyl)/f,\n",
      "              3 * ( (float(nCyl)/f) / ( 1.0/(2*fs) ) ) + 1 )\n",
      "#Signal_sample = {time : Contiguous_sinusoidal_signal(time) for time in ts}\n",
      "Signal_sample = {'x' : ts, 'y' : Contiguous_sinusoidal_signal(ts)}"
     ],
     "language": "python",
     "metadata": {},
     "outputs": [],
     "prompt_number": 563
    },
    {
     "cell_type": "code",
     "collapsed": false,
     "input": [
      "float(nCyl)/f"
     ],
     "language": "python",
     "metadata": {},
     "outputs": [
      {
       "metadata": {},
       "output_type": "pyout",
       "prompt_number": 564,
       "text": [
        "0.5"
       ]
      }
     ],
     "prompt_number": 564
    },
    {
     "cell_type": "code",
     "collapsed": false,
     "input": [
      "Signal_sample['x'], Signal_sample['y']"
     ],
     "language": "python",
     "metadata": {},
     "outputs": [
      {
       "metadata": {},
       "output_type": "pyout",
       "prompt_number": 565,
       "text": [
        "(array([-0.5  , -0.475, -0.45 , -0.425, -0.4  , -0.375, -0.35 , -0.325,\n",
        "        -0.3  , -0.275, -0.25 , -0.225, -0.2  , -0.175, -0.15 , -0.125,\n",
        "        -0.1  , -0.075, -0.05 , -0.025,  0.   ,  0.025,  0.05 ,  0.075,\n",
        "         0.1  ,  0.125,  0.15 ,  0.175,  0.2  ,  0.225,  0.25 ,  0.275,\n",
        "         0.3  ,  0.325,  0.35 ,  0.375,  0.4  ,  0.425,  0.45 ,  0.475,\n",
        "         0.5  ,  0.525,  0.55 ,  0.575,  0.6  ,  0.625,  0.65 ,  0.675,\n",
        "         0.7  ,  0.725,  0.75 ,  0.775,  0.8  ,  0.825,  0.85 ,  0.875,\n",
        "         0.9  ,  0.925,  0.95 ,  0.975,  1.   ]),\n",
        " array([ -6.12323400e-16,   2.07873222e-15,   1.00000000e+00,\n",
        "         -1.99213661e-15,   4.89858720e-16,  -1.90554101e-15,\n",
        "         -1.00000000e+00,   1.81894540e-15,  -3.67394040e-16,\n",
        "         -7.79798136e-16,   1.00000000e+00,  -1.64575419e-15,\n",
        "          2.02128620e-15,  -3.03084620e-16,  -1.00000000e+00,\n",
        "          2.16489014e-16,  -1.01064310e-15,   2.01400436e-15,\n",
        "          1.00000000e+00,  -1.45638102e-15,   0.00000000e+00,\n",
        "         -8.98757672e-16,  -1.00000000e+00,   3.01029151e-15,\n",
        "         -2.54207058e-15,  -2.16489014e-16,   1.00000000e+00,\n",
        "         -2.20906331e-15,   1.53142748e-15,  -3.37854168e-15,\n",
        "         -1.00000000e+00,   7.79798136e-16,  -1.40896280e-15,\n",
        "          3.20535046e-15,   1.00000000e+00,   1.90554101e-15,\n",
        "         -4.89858720e-16,  -5.20011319e-16,  -1.00000000e+00,\n",
        "          2.94556365e-15,   6.12323400e-16,   5.37111598e-15,\n",
        "          1.00000000e+00,   2.25192343e-15,   2.81792560e-15,\n",
        "         -1.73628897e-16,  -1.00000000e+00,   2.59918122e-15,\n",
        "         -6.24817460e-15,   5.02473355e-15,   1.00000000e+00,\n",
        "         -2.42599001e-15,  -9.79717439e-16,  -4.85154234e-15,\n",
        "         -1.00000000e+00,  -2.77149707e-15,  -2.45053156e-15,\n",
        "         -3.45944737e-16,   1.00000000e+00,  -2.07960759e-15,\n",
        "         -1.22464680e-15]))"
       ]
      }
     ],
     "prompt_number": 565
    },
    {
     "cell_type": "code",
     "collapsed": false,
     "input": [
      "for n in range( -len(ts) + 1 , len(ts) ):\n",
      "    print float(n)/(2*fs), Contiguous_sinusoidal_signal(float(n)/(2*fs))"
     ],
     "language": "python",
     "metadata": {},
     "outputs": [
      {
       "output_type": "stream",
       "stream": "stdout",
       "text": [
        "-1.5 -5.38968387752e-15\n",
        "-1.475 -6.23794740273e-15\n",
        "-1.45 1.0\n",
        "-1.425 3.81239507446e-15\n",
        "-1.4 1.71450551881e-15\n",
        "-1.375 1.38684274619e-15\n",
        "-1.35 -1.0\n",
        "-1.325 1.03870958208e-15\n",
        "-1.3 1.96067283991e-15\n",
        "-1.275 3.46426191035e-15\n",
        "-1.25 1.0\n",
        "-1.225 4.15877749696e-15\n",
        "-1.2 1.46957615898e-15\n",
        "-1.175 1.73322516869e-15\n",
        "-1.15 -1.0\n",
        "-1.125 6.92327159583e-16\n",
        "-1.1 2.20560219974e-15\n",
        "-1.075 3.11787948785e-15\n",
        "-1.05 1.0\n",
        "-1.025 -5.54343181612e-15\n",
        "-1.0 1.22464679915e-15\n",
        "-0.975 -2.94468827661e-15\n",
        "-0.95 -1.0\n",
        "-0.925 3.45944737089e-16\n",
        "-0.9 -1.10218211923e-15\n",
        "-0.875 2.77149706536e-15\n",
        "-0.85 1.0\n",
        "-0.825 -5.19704939363e-15\n",
        "-0.8 9.79717439318e-16\n",
        "-0.775 -2.59830585411e-15\n",
        "-0.75 -1.0\n",
        "-0.725 -4.37685405555e-19\n",
        "-0.7 -8.57252759403e-16\n",
        "-0.675 -2.59918122492e-15\n",
        "-0.65 1.0\n",
        "-0.625 1.73628896653e-16\n",
        "-0.6 7.34788079488e-16\n",
        "-0.575 -2.25192343162e-15\n",
        "-0.55 -1.0\n",
        "-0.525 -3.468201079e-16\n",
        "-0.5 -6.12323399574e-16\n",
        "-0.475 2.07873222037e-15\n",
        "-0.45 1.0\n",
        "-0.425 -1.99213661475e-15\n",
        "-0.4 4.89858719659e-16\n",
        "-0.375 -1.90554100912e-15\n",
        "-0.35 -1.0\n",
        "-0.325 -6.93202530394e-16\n",
        "-0.3 -3.67394039744e-16\n",
        "-0.275 -7.79798136017e-16\n",
        "-0.25 1.0\n",
        "-0.225 -3.89680225306e-16\n",
        "-0.2 2.44929359829e-16\n",
        "-0.175 -3.03084619682e-16\n",
        "-0.15 -1.0\n",
        "-0.125 2.16489014059e-16\n",
        "-0.1 -1.22464679915e-16\n",
        "-0.075 1.29893408435e-16\n",
        "-0.05 1.0\n",
        "-0.025 -4.32978028118e-17\n",
        "0.0 0.0\n",
        "0.025 4.32978028118e-17\n",
        "0.05 -1.0\n",
        "0.075 -1.29893408435e-16\n",
        "0.1 1.22464679915e-16\n",
        "0.125 -2.16489014059e-16\n",
        "0.15 1.0\n",
        "0.175 3.03084619682e-16\n",
        "0.2 -2.44929359829e-16\n",
        "0.225 3.89680225306e-16\n",
        "0.25 -1.0\n",
        "0.275 7.79798136017e-16\n",
        "0.3 3.67394039744e-16\n",
        "0.325 6.93202530394e-16\n",
        "0.35 1.0\n",
        "0.375 1.90554100912e-15\n",
        "0.4 -4.89858719659e-16\n",
        "0.425 1.99213661475e-15\n",
        "0.45 -1.0\n",
        "0.475 -2.07873222037e-15\n",
        "0.5 6.12323399574e-16\n",
        "0.525 3.468201079e-16\n",
        "0.55 1.0\n",
        "0.575 2.25192343162e-15\n",
        "0.6 -7.34788079488e-16\n",
        "0.625 -1.73628896653e-16\n",
        "0.65 -1.0\n",
        "0.675 2.59918122492e-15\n",
        "0.7 8.57252759403e-16\n",
        "0.725 4.37685405555e-19\n",
        "0.75 1.0\n",
        "0.775 2.59830585411e-15\n",
        "0.8 -9.79717439318e-16\n",
        "0.825 5.19704939363e-15\n",
        "0.85 -1.0\n",
        "0.875 -2.77149706536e-15\n",
        "0.9 1.10218211923e-15\n",
        "0.925 -3.45944737089e-16\n",
        "0.95 1.0\n",
        "0.975 2.94468827661e-15\n",
        "1.0 -1.22464679915e-15\n",
        "1.025 5.54343181612e-15\n",
        "1.05 -1.0\n",
        "1.075 -3.11787948785e-15\n",
        "1.1 -2.20560219974e-15\n",
        "1.125 -6.92327159583e-16\n",
        "1.15 1.0\n",
        "1.175 -1.73322516869e-15\n",
        "1.2 -1.46957615898e-15\n",
        "1.225 -4.15877749696e-15\n",
        "1.25 -1.0\n",
        "1.275 -3.46426191035e-15\n",
        "1.3 -1.96067283991e-15\n",
        "1.325 -1.03870958208e-15\n",
        "1.35 1.0\n",
        "1.375 -1.38684274619e-15\n",
        "1.4 -1.71450551881e-15\n",
        "1.425 -3.81239507446e-15\n",
        "1.45 -1.0\n",
        "1.475 6.23794740273e-15\n",
        "1.5 5.38968387752e-15\n"
       ]
      }
     ],
     "prompt_number": 566
    },
    {
     "cell_type": "code",
     "collapsed": false,
     "input": [
      "Contiguous_sinusoidal_signal(arange( -len(ts) + 1 , len(ts) )/(float(2)*fs))"
     ],
     "language": "python",
     "metadata": {},
     "outputs": [
      {
       "metadata": {},
       "output_type": "pyout",
       "prompt_number": 567,
       "text": [
        "array([ -5.38968388e-15,  -6.23794740e-15,   1.00000000e+00,\n",
        "         3.81239507e-15,   1.71450552e-15,   1.38684275e-15,\n",
        "        -1.00000000e+00,   1.03870958e-15,   1.96067284e-15,\n",
        "         3.46426191e-15,   1.00000000e+00,   4.15877750e-15,\n",
        "         1.46957616e-15,   1.73322517e-15,  -1.00000000e+00,\n",
        "         6.92327160e-16,   2.20560220e-15,   3.11787949e-15,\n",
        "         1.00000000e+00,  -5.54343182e-15,   1.22464680e-15,\n",
        "        -2.94468828e-15,  -1.00000000e+00,   3.45944737e-16,\n",
        "        -1.10218212e-15,   2.77149707e-15,   1.00000000e+00,\n",
        "        -5.19704939e-15,   9.79717439e-16,  -2.59830585e-15,\n",
        "        -1.00000000e+00,  -4.37685406e-19,  -8.57252759e-16,\n",
        "        -2.59918122e-15,   1.00000000e+00,   1.73628897e-16,\n",
        "         7.34788079e-16,  -2.25192343e-15,  -1.00000000e+00,\n",
        "        -3.46820108e-16,  -6.12323400e-16,   2.07873222e-15,\n",
        "         1.00000000e+00,  -1.99213661e-15,   4.89858720e-16,\n",
        "        -1.90554101e-15,  -1.00000000e+00,  -6.93202530e-16,\n",
        "        -3.67394040e-16,  -7.79798136e-16,   1.00000000e+00,\n",
        "        -3.89680225e-16,   2.44929360e-16,  -3.03084620e-16,\n",
        "        -1.00000000e+00,   2.16489014e-16,  -1.22464680e-16,\n",
        "         1.29893408e-16,   1.00000000e+00,  -4.32978028e-17,\n",
        "         0.00000000e+00,   4.32978028e-17,  -1.00000000e+00,\n",
        "        -1.29893408e-16,   1.22464680e-16,  -2.16489014e-16,\n",
        "         1.00000000e+00,   3.03084620e-16,  -2.44929360e-16,\n",
        "         3.89680225e-16,  -1.00000000e+00,   7.79798136e-16,\n",
        "         3.67394040e-16,   6.93202530e-16,   1.00000000e+00,\n",
        "         1.90554101e-15,  -4.89858720e-16,   1.99213661e-15,\n",
        "        -1.00000000e+00,  -2.07873222e-15,   6.12323400e-16,\n",
        "         3.46820108e-16,   1.00000000e+00,   2.25192343e-15,\n",
        "        -7.34788079e-16,  -1.73628897e-16,  -1.00000000e+00,\n",
        "         2.59918122e-15,   8.57252759e-16,   4.37685406e-19,\n",
        "         1.00000000e+00,   2.59830585e-15,  -9.79717439e-16,\n",
        "         5.19704939e-15,  -1.00000000e+00,  -2.77149707e-15,\n",
        "         1.10218212e-15,  -3.45944737e-16,   1.00000000e+00,\n",
        "         2.94468828e-15,  -1.22464680e-15,   5.54343182e-15,\n",
        "        -1.00000000e+00,  -3.11787949e-15,  -2.20560220e-15,\n",
        "        -6.92327160e-16,   1.00000000e+00,  -1.73322517e-15,\n",
        "        -1.46957616e-15,  -4.15877750e-15,  -1.00000000e+00,\n",
        "        -3.46426191e-15,  -1.96067284e-15,  -1.03870958e-15,\n",
        "         1.00000000e+00,  -1.38684275e-15,  -1.71450552e-15,\n",
        "        -3.81239507e-15,  -1.00000000e+00,   6.23794740e-15,\n",
        "         5.38968388e-15])"
       ]
      }
     ],
     "prompt_number": 567
    },
    {
     "cell_type": "code",
     "collapsed": false,
     "input": [],
     "language": "python",
     "metadata": {},
     "outputs": [],
     "prompt_number": 567
    },
    {
     "cell_type": "code",
     "collapsed": false,
     "input": [
      "Signal_sample['y'][0]"
     ],
     "language": "python",
     "metadata": {},
     "outputs": [
      {
       "metadata": {},
       "output_type": "pyout",
       "prompt_number": 568,
       "text": [
        "-6.1232339957367663e-16"
       ]
      }
     ],
     "prompt_number": 568
    },
    {
     "cell_type": "markdown",
     "metadata": {},
     "source": [
      "### Shannon Function\n",
      "\u0417\u043d\u0430\u0447\u0435\u043d\u0438\u044f f(n/2W) \u0438\u0437\u0432\u0435\u0441\u0442\u043d\u044b \u0438 \u0440\u0430\u0432\u043d\u044f\u044e\u0442\u0441\u044f Contiguous_sinusoidal_signal(ts[n])\n",
      "<img src=\"Shannon Function.PNG\">\n",
      "\u0433\u0434\u0435 Xn - \u0437\u043d\u0430\u0447\u0435\u043d\u0438\u0435 n-\u043e\u0433\u043e \u0441\u0435\u043c\u043f\u043b\u0430"
     ]
    },
    {
     "cell_type": "code",
     "collapsed": false,
     "input": [
      "def Shannon_Function(t):\n",
      "    sum = 0\n",
      "    for n in range( -len(ts) + 1 , len(ts) ):\n",
      "        #sum += Signal_sample.get(ts[abs(n)]) * np.sinc( 2*fs*t - n )\n",
      "        sum += Signal_sample['y'][abs(n)] * np.sinc( 2*fs*t - n )\n",
      "        #sum += Contiguous_sinusoidal_signal(float(n)/(2*fs)) * np.sinc( 2*fs*t - n )\n",
      "        #print n, float(n)/(2*fs), ts[n], Contiguous_sinusoidal_signal(float(n)/(2*fs)), Signal_sample.get(ts[n])\n",
      "        # sin(2*pi*(k/fs))\n",
      "        #print k, ts[k], Signal_sample.get(ts[k]), np.sin( np.pi*(2*f*t - k) ), np.pi*(2*f*t - k), sum\n",
      "    return sum"
     ],
     "language": "python",
     "metadata": {},
     "outputs": [],
     "prompt_number": 571
    },
    {
     "cell_type": "code",
     "collapsed": false,
     "input": [
      "Shannon_Function(1)"
     ],
     "language": "python",
     "metadata": {},
     "outputs": [
      {
       "metadata": {},
       "output_type": "pyout",
       "prompt_number": 572,
       "text": [
        "3.6214835166282396e-16"
       ]
      }
     ],
     "prompt_number": 572
    },
    {
     "cell_type": "code",
     "collapsed": false,
     "input": [
      "Contiguous_sinusoidal_signal(float(1)/(2*fs))"
     ],
     "language": "python",
     "metadata": {},
     "outputs": [
      {
       "metadata": {},
       "output_type": "pyout",
       "prompt_number": 577,
       "text": [
        "4.3297802811774658e-17"
       ]
      }
     ],
     "prompt_number": 577
    },
    {
     "cell_type": "code",
     "collapsed": false,
     "input": [
      "Signal_sample"
     ],
     "language": "python",
     "metadata": {},
     "outputs": [
      {
       "metadata": {},
       "output_type": "pyout",
       "prompt_number": 573,
       "text": [
        "{'x': array([-0.5  , -0.475, -0.45 , -0.425, -0.4  , -0.375, -0.35 , -0.325,\n",
        "        -0.3  , -0.275, -0.25 , -0.225, -0.2  , -0.175, -0.15 , -0.125,\n",
        "        -0.1  , -0.075, -0.05 , -0.025,  0.   ,  0.025,  0.05 ,  0.075,\n",
        "         0.1  ,  0.125,  0.15 ,  0.175,  0.2  ,  0.225,  0.25 ,  0.275,\n",
        "         0.3  ,  0.325,  0.35 ,  0.375,  0.4  ,  0.425,  0.45 ,  0.475,\n",
        "         0.5  ,  0.525,  0.55 ,  0.575,  0.6  ,  0.625,  0.65 ,  0.675,\n",
        "         0.7  ,  0.725,  0.75 ,  0.775,  0.8  ,  0.825,  0.85 ,  0.875,\n",
        "         0.9  ,  0.925,  0.95 ,  0.975,  1.   ]),\n",
        " 'y': array([ -6.12323400e-16,   2.07873222e-15,   1.00000000e+00,\n",
        "         -1.99213661e-15,   4.89858720e-16,  -1.90554101e-15,\n",
        "         -1.00000000e+00,   1.81894540e-15,  -3.67394040e-16,\n",
        "         -7.79798136e-16,   1.00000000e+00,  -1.64575419e-15,\n",
        "          2.02128620e-15,  -3.03084620e-16,  -1.00000000e+00,\n",
        "          2.16489014e-16,  -1.01064310e-15,   2.01400436e-15,\n",
        "          1.00000000e+00,  -1.45638102e-15,   0.00000000e+00,\n",
        "         -8.98757672e-16,  -1.00000000e+00,   3.01029151e-15,\n",
        "         -2.54207058e-15,  -2.16489014e-16,   1.00000000e+00,\n",
        "         -2.20906331e-15,   1.53142748e-15,  -3.37854168e-15,\n",
        "         -1.00000000e+00,   7.79798136e-16,  -1.40896280e-15,\n",
        "          3.20535046e-15,   1.00000000e+00,   1.90554101e-15,\n",
        "         -4.89858720e-16,  -5.20011319e-16,  -1.00000000e+00,\n",
        "          2.94556365e-15,   6.12323400e-16,   5.37111598e-15,\n",
        "          1.00000000e+00,   2.25192343e-15,   2.81792560e-15,\n",
        "         -1.73628897e-16,  -1.00000000e+00,   2.59918122e-15,\n",
        "         -6.24817460e-15,   5.02473355e-15,   1.00000000e+00,\n",
        "         -2.42599001e-15,  -9.79717439e-16,  -4.85154234e-15,\n",
        "         -1.00000000e+00,  -2.77149707e-15,  -2.45053156e-15,\n",
        "         -3.45944737e-16,   1.00000000e+00,  -2.07960759e-15,\n",
        "         -1.22464680e-15])}"
       ]
      }
     ],
     "prompt_number": 573
    },
    {
     "cell_type": "code",
     "collapsed": false,
     "input": [],
     "language": "python",
     "metadata": {},
     "outputs": []
    },
    {
     "cell_type": "code",
     "collapsed": false,
     "input": [],
     "language": "python",
     "metadata": {},
     "outputs": []
    },
    {
     "cell_type": "markdown",
     "metadata": {},
     "source": [
      "### Graph of contiguous sinusoidal signal function"
     ]
    },
    {
     "cell_type": "code",
     "collapsed": false,
     "input": [
      "def graph_signal(ax):\n",
      "    \n",
      "    ax.plot(t, Contiguous_sinusoidal_signal(t))\n",
      "    ax.stem(Signal_sample['x'], Signal_sample['y'], linefmt='g-', markerfmt='wo', basefmt='k-')\n",
      "    \n",
      "    ax.axis([-float(nCyl)/f,\n",
      "             2*float(nCyl)/f,\n",
      "             min( min(Contiguous_sinusoidal_signal(ts)), min(Contiguous_sinusoidal_signal(t)) ),\n",
      "             max( max(Contiguous_sinusoidal_signal(ts)), max(Contiguous_sinusoidal_signal(t)) )])\n",
      "    ax.set_xlabel('Time(s)', fontsize=15)\n",
      "    ax.set_ylabel('Amplitude', fontsize=15)\n",
      "    ax.set_title('Sampling Continuous sinusoidal signal, where f=' + str(f) + ' and fs=' + str(fs), fontsize=20)"
     ],
     "language": "python",
     "metadata": {},
     "outputs": [],
     "prompt_number": 541
    },
    {
     "cell_type": "markdown",
     "metadata": {},
     "source": [
      "### Graph of reconstructed contiguous sinusoidal signal function"
     ]
    },
    {
     "cell_type": "code",
     "collapsed": false,
     "input": [
      "def graph_signal_reconstructed(ax):\n",
      "    \n",
      "    ax.plot(t, Shannon_Function(t))\n",
      "    ax.stem(Signal_sample['x'], Signal_sample['y'], linefmt='g-', markerfmt='wo', basefmt='k-')\n",
      "    \n",
      "    ax.axis([-float(nCyl)/f,\n",
      "             2*float(nCyl)/f,\n",
      "             min( min(Contiguous_sinusoidal_signal(ts)), min(Contiguous_sinusoidal_signal(t)) ),\n",
      "             max( max(Contiguous_sinusoidal_signal(ts)), max(Contiguous_sinusoidal_signal(t)) )])\n",
      "    ax.set_xlabel('Time(s)', fontsize=15)\n",
      "    ax.set_ylabel('Amplitude', fontsize=15)\n",
      "    ax.set_title('Reconstructed continuous sinusoidal signal, where f=' + str(f) + ' and fs=' + str(fs), fontsize=20)\n",
      "    \n",
      "    \n",
      "    axr = ax.twinx()\n",
      "    sqe = (Contiguous_sinusoidal_signal(t) - Shannon_Function(t))**2   # squared error\n",
      "    axr.plot(t, sqe, 'r')\n",
      "    axr.axis([-float(nCyl)/f, 2*float(nCyl)/f, -0.2, 0.2])\n",
      "    axr.set_ylabel('squared error', color='r', fontsize=15)"
     ],
     "language": "python",
     "metadata": {},
     "outputs": [],
     "prompt_number": 542
    },
    {
     "cell_type": "code",
     "collapsed": false,
     "input": [
      "fig = plt.figure(figsize=(20, 10))\n",
      "gs1 = gridspec.GridSpec(2, 1)\n",
      "ax0 = fig.add_subplot(gs1[0])\n",
      "ax1 = fig.add_subplot(gs1[1])\n",
      "\n",
      "graph_signal(ax0)\n",
      "graph_signal_reconstructed(ax1)\n",
      "\n",
      "gs1.update(left=0.1, bottom=0.1, right=0.95, top=0.95, wspace=0.5, hspace=0.3)\n",
      "\n",
      "plt.show()"
     ],
     "language": "python",
     "metadata": {},
     "outputs": [
      {
       "metadata": {},
       "output_type": "display_data",
       "png": "[encoded data removed]",
       "text": [
        "<matplotlib.figure.Figure at 0xa765d90>"
       ]
      }
     ],
     "prompt_number": 549
    },
    {
     "cell_type": "code",
     "collapsed": false,
     "input": [],
     "language": "python",
     "metadata": {},
     "outputs": []
    },
    {
     "cell_type": "code",
     "collapsed": false,
     "input": [],
     "language": "python",
     "metadata": {},
     "outputs": []
    }
   ],
   "metadata": {}
  }
 ]
}