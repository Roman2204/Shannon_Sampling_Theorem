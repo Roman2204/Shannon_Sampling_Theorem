{
 "metadata": {
  "name": "",
  "signature": "sha256:947032f11009fde4b1228ec3a30db6a7e39199f646f50f663a05a02911a61489"
 },
 "nbformat": 3,
 "nbformat_minor": 0,
 "worksheets": [
  {
   "cells": [
    {
     "cell_type": "code",
     "collapsed": false,
     "input": [
      "import math\n",
      "import matplotlib.pyplot as plt\n",
      "from numpy import *"
     ],
     "language": "python",
     "metadata": {},
     "outputs": [],
     "prompt_number": 1
    },
    {
     "cell_type": "markdown",
     "metadata": {},
     "source": [
      "## \u041a\u043e\u043d\u0441\u0442\u0430\u043d\u0442\u044b"
     ]
    },
    {
     "cell_type": "code",
     "collapsed": false,
     "input": [
      "fs1 = 30 * 10**3\n",
      "W = 10 * 10**3"
     ],
     "language": "python",
     "metadata": {},
     "outputs": [],
     "prompt_number": 2
    },
    {
     "cell_type": "markdown",
     "metadata": {},
     "source": [
      "## \u041d\u0435\u043f\u0440\u0435\u0440\u044b\u0432\u043d\u0430\u044f \u0444\u0443\u043d\u043a\u0446\u0438\u044f \u0441\u0438\u0433\u043d\u0430\u043b\u0430"
     ]
    },
    {
     "cell_type": "code",
     "collapsed": false,
     "input": [
      "def s(t):\n",
      "    return np.cos( 2 * np.pi * W * t )"
     ],
     "language": "python",
     "metadata": {},
     "outputs": [],
     "prompt_number": 3
    },
    {
     "cell_type": "markdown",
     "metadata": {},
     "source": [
      "## \u0417\u0430\u0434\u0430\u043d\u0438\u0435 \u043c\u043d\u043e\u0436\u0435\u0442\u0441\u0432\u0430 \u0442\u043e\u0447\u0435\u043a \u0432\u0440\u0435\u043c\u0435\u043d\u0438 \u0438 \u043f\u043e\u0434\u0441\u0447\u0451\u0442 \u0437\u043d\u0430\u0447\u0435\u043d\u0438\u044f \u0444\u0443\u043d\u043a\u0446\u0438\u0438 \u0432 \u044d\u0442\u0438\u0445 \u0442\u043e\u0447\u043a\u0430\u0445"
     ]
    },
    {
     "cell_type": "code",
     "collapsed": false,
     "input": [
      "t = linspace(0, 5, 100)\n",
      "y = s(t)"
     ],
     "language": "python",
     "metadata": {},
     "outputs": []
    },
    {
     "cell_type": "markdown",
     "metadata": {},
     "source": [
      "## \u0417\u0430\u0434\u0430\u043d\u0438\u0435 \u0442\u043e\u0447\u0435\u043a \u0430\u043f\u0440\u043e\u0431\u0438\u0440\u043e\u0432\u0430\u043d\u0438\u044f \u0444\u0443\u043d\u043a\u0446\u0438\u0438 \u0441\u0438\u0433\u043d\u0430\u043b\u0430"
     ]
    },
    {
     "cell_type": "code",
     "collapsed": false,
     "input": [
      "determined_points = arange(0, 5, float(1) / (2 * W) )"
     ],
     "language": "python",
     "metadata": {},
     "outputs": [],
     "prompt_number": 6
    },
    {
     "cell_type": "code",
     "collapsed": false,
     "input": [
      "determined_points"
     ],
     "language": "python",
     "metadata": {},
     "outputs": [
      {
       "metadata": {},
       "output_type": "pyout",
       "prompt_number": 7,
       "text": [
        "array([  0.00000000e+00,   5.00000000e-05,   1.00000000e-04, ...,\n",
        "         4.99985000e+00,   4.99990000e+00,   4.99995000e+00])"
       ]
      }
     ],
     "prompt_number": 7
    },
    {
     "cell_type": "code",
     "collapsed": false,
     "input": [],
     "language": "python",
     "metadata": {},
     "outputs": []
    }
   ],
   "metadata": {}
  }
 ]
}