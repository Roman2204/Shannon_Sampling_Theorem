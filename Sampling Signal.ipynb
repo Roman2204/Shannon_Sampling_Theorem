{
 "metadata": {
  "name": "",
  "signature": "sha256:14fe2eebb9cab5f601871f4c723e7b56b03897a706730a732a52a6d1189c8007"
 },
 "nbformat": 3,
 "nbformat_minor": 0,
 "worksheets": [
  {
   "cells": [
    {
     "cell_type": "code",
     "collapsed": false,
     "input": [
      "import math\n",
      "import matplotlib.pyplot as plt\n",
      "from numpy import *"
     ],
     "language": "python",
     "metadata": {},
     "outputs": [],
     "prompt_number": 7
    },
    {
     "cell_type": "markdown",
     "metadata": {},
     "source": [
      "## \u041a\u043e\u043d\u0441\u0442\u0430\u043d\u0442\u044b"
     ]
    },
    {
     "cell_type": "code",
     "collapsed": false,
     "input": [
      "fs1 = 30 * 10**3\n",
      "W = 10 * 10**3\n",
      "n = 16"
     ],
     "language": "python",
     "metadata": {},
     "outputs": [],
     "prompt_number": 21
    },
    {
     "cell_type": "markdown",
     "metadata": {},
     "source": [
      "## \u041d\u0435\u043f\u0440\u0435\u0440\u044b\u0432\u043d\u0430\u044f \u0444\u0443\u043d\u043a\u0446\u0438\u044f \u0441\u0438\u0433\u043d\u0430\u043b\u0430"
     ]
    },
    {
     "cell_type": "code",
     "collapsed": false,
     "input": [
      "def s(t):\n",
      "    return np.cos( 2 * np.pi * W * t )"
     ],
     "language": "python",
     "metadata": {},
     "outputs": [],
     "prompt_number": 4
    },
    {
     "cell_type": "markdown",
     "metadata": {},
     "source": [
      "## \u0417\u0430\u0434\u0430\u043d\u0438\u0435 \u043c\u043d\u043e\u0436\u0435\u0442\u0441\u0432\u0430 \u0442\u043e\u0447\u0435\u043a \u0432\u0440\u0435\u043c\u0435\u043d\u0438 \u0438 \u043f\u043e\u0434\u0441\u0447\u0451\u0442 \u0437\u043d\u0430\u0447\u0435\u043d\u0438\u044f \u0444\u0443\u043d\u043a\u0446\u0438\u0438 \u0432 \u044d\u0442\u0438\u0445 \u0442\u043e\u0447\u043a\u0430\u0445"
     ]
    },
    {
     "cell_type": "code",
     "collapsed": false,
     "input": [
      "t = linspace(0, float(5)/W, 100)\n",
      "y = s(t)"
     ],
     "language": "python",
     "metadata": {},
     "outputs": [],
     "prompt_number": 67
    },
    {
     "cell_type": "markdown",
     "metadata": {},
     "source": [
      "## \u0417\u0430\u0434\u0430\u043d\u0438\u0435 \u0442\u043e\u0447\u0435\u043a \u0430\u043f\u0440\u043e\u0431\u0438\u0440\u043e\u0432\u0430\u043d\u0438\u044f \u0444\u0443\u043d\u043a\u0446\u0438\u0438 \u0441\u0438\u0433\u043d\u0430\u043b\u0430"
     ]
    },
    {
     "cell_type": "code",
     "collapsed": false,
     "input": [
      "determined_points = linspace(0, float(5)/W, 16)"
     ],
     "language": "python",
     "metadata": {},
     "outputs": [],
     "prompt_number": 68
    },
    {
     "cell_type": "code",
     "collapsed": false,
     "input": [
      "determined_points"
     ],
     "language": "python",
     "metadata": {},
     "outputs": [
      {
       "metadata": {},
       "output_type": "pyout",
       "prompt_number": 69,
       "text": [
        "array([  0.00000000e+00,   3.33333333e-05,   6.66666667e-05,\n",
        "         1.00000000e-04,   1.33333333e-04,   1.66666667e-04,\n",
        "         2.00000000e-04,   2.33333333e-04,   2.66666667e-04,\n",
        "         3.00000000e-04,   3.33333333e-04,   3.66666667e-04,\n",
        "         4.00000000e-04,   4.33333333e-04,   4.66666667e-04,\n",
        "         5.00000000e-04])"
       ]
      }
     ],
     "prompt_number": 69
    },
    {
     "cell_type": "markdown",
     "metadata": {},
     "source": [
      "## \u041f\u043e\u0441\u0442\u0440\u043e\u0435\u043d\u0438\u0435 \u0433\u0440\u0430\u0444\u0438\u043a\u0430 \u043f\u043e \u0442\u043e\u0447\u043a\u0430\u043c t \u0438 \u0437\u043d\u0430\u0447\u0435\u043d\u0438\u0435\u044f\u043c \u0444\u0443\u043d\u043a\u0446\u0438\u0438 \u0432 \u044d\u0442\u0438\u0445 \u0442\u043e\u0447\u043a\u0430\u0445 y = s(t)"
     ]
    },
    {
     "cell_type": "code",
     "collapsed": false,
     "input": [
      "plt.plot(t, y)\n",
      "plt.axis([0, float(5)/W, -1, 1])\n",
      "plt.xlabel('Time(s)')\n",
      "plt.ylabel('Amplitude')\n",
      "plt.title('Sampling Contiguous sinusoidal signal at fs1=30KHz')\n",
      "plt.stem(determined_points, s(determined_points), linefmt='r-', markerfmt='ro', basefmt='k-')\n",
      "plt.show()"
     ],
     "language": "python",
     "metadata": {},
     "outputs": [
      {
       "metadata": {},
       "output_type": "display_data",
       "png": "[encoded data removed]",
       "text": [
        "<matplotlib.figure.Figure at 0x8601ff0>"
       ]
      }
     ],
     "prompt_number": 73
    }
   ],
   "metadata": {}
  }
 ]
}