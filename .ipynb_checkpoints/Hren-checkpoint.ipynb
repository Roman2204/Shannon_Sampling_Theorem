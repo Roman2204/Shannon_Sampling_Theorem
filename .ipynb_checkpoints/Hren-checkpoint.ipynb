{
 "metadata": {
  "name": "",
  "signature": "sha256:2156b8e748b43de84c7edbbeb0a7fb484d0b1cf6064a2d359deeaba712b6551c"
 },
 "nbformat": 3,
 "nbformat_minor": 0,
 "worksheets": [
  {
   "cells": [
    {
     "cell_type": "code",
     "collapsed": false,
     "input": [
      "import math\n",
      "import matplotlib.pyplot as plt\n",
      "import matplotlib.gridspec as gridspec\n",
      "from numpy import *"
     ],
     "language": "python",
     "metadata": {},
     "outputs": [],
     "prompt_number": 1
    },
    {
     "cell_type": "code",
     "collapsed": false,
     "input": [
      "fs1 = 30 * 10**3\n",
      "fs2 = 50 * 10**3\n",
      "W = 10 * 10**3"
     ],
     "language": "python",
     "metadata": {},
     "outputs": [],
     "prompt_number": 3
    },
    {
     "cell_type": "code",
     "collapsed": false,
     "input": [
      "def s(t):\n",
      "    return np.cos( 2 * np.pi * W * t )"
     ],
     "language": "python",
     "metadata": {},
     "outputs": [],
     "prompt_number": 4
    },
    {
     "cell_type": "code",
     "collapsed": false,
     "input": [
      "t = linspace(0, float(5)/W, 10000)\n",
      "y = s(t)\n",
      "t1 = arange(0, float(5)/W, float(1)/(2*fs1))  ## time index"
     ],
     "language": "python",
     "metadata": {},
     "outputs": [],
     "prompt_number": 6
    },
    {
     "cell_type": "code",
     "collapsed": false,
     "input": [
      "t1"
     ],
     "language": "python",
     "metadata": {},
     "outputs": [
      {
       "metadata": {},
       "output_type": "pyout",
       "prompt_number": 27,
       "text": [
        "array([  0.00000000e+00,   1.66666667e-05,   3.33333333e-05,\n",
        "         5.00000000e-05,   6.66666667e-05,   8.33333333e-05,\n",
        "         1.00000000e-04,   1.16666667e-04,   1.33333333e-04,\n",
        "         1.50000000e-04,   1.66666667e-04,   1.83333333e-04,\n",
        "         2.00000000e-04,   2.16666667e-04,   2.33333333e-04,\n",
        "         2.50000000e-04,   2.66666667e-04,   2.83333333e-04,\n",
        "         3.00000000e-04,   3.16666667e-04,   3.33333333e-04,\n",
        "         3.50000000e-04,   3.66666667e-04,   3.83333333e-04,\n",
        "         4.00000000e-04,   4.16666667e-04,   4.33333333e-04,\n",
        "         4.50000000e-04,   4.66666667e-04,   4.83333333e-04])"
       ]
      }
     ],
     "prompt_number": 27
    },
    {
     "cell_type": "code",
     "collapsed": false,
     "input": [
      "plt.plot(t, y)\n",
      "plt.axis([0, float(5)/W, -1.5, 1.5])\n",
      "plt.xlabel('Time(s)')\n",
      "plt.ylabel('Amplitude')\n",
      "plt.title('Sampling Contiguous sinusoidal signal at fs1=30KHz')\n",
      "plt.stem(t1, s(t1), linefmt='r-', markerfmt='ro', basefmt='k-')\n",
      "plt.show()"
     ],
     "language": "python",
     "metadata": {},
     "outputs": [
      {
       "metadata": {},
       "output_type": "display_data",
       "png": "[encoded data removed]",
       "text": [
        "<matplotlib.figure.Figure at 0x59259d0>"
       ]
      }
     ],
     "prompt_number": 7
    },
    {
     "cell_type": "code",
     "collapsed": false,
     "input": [
      "summ = 0\n",
      "t = 1\n",
      "for n in range(1, len(t1)+1, 1):\n",
      "    print summ\n",
      "    summ += s(t1[n-1]) * math.sin( 2*fs1*t*math.pi - n*math.pi ) / ( 2*fs1*t*math.pi - n*math.pi )\n",
      "print summ"
     ],
     "language": "python",
     "metadata": {},
     "outputs": [
      {
       "output_type": "stream",
       "stream": "stdout",
       "text": [
        "0\n",
        "-1.17396597447e-17\n",
        "7.72968435028e-18\n",
        "-3.64051722023e-17\n",
        "2.46662726969e-17\n",
        "7.73013769252e-18\n",
        "4.39404349837e-18\n",
        "-1.61347565088e-17\n",
        "7.73059110279e-18\n",
        "-3.20145500297e-17\n",
        "2.02745974009e-17\n",
        "7.73104453816e-18\n",
        "8.78896598611e-18\n",
        "-2.05307324926e-17\n",
        "7.73149804157e-18\n",
        "-2.76230495083e-17\n",
        "1.58820435258e-17\n",
        "7.73195157011e-18\n",
        "1.3184767727e-17\n",
        "-2.49275879597e-17\n",
        "-6.94936448516e-17\n",
        "-1.00456720393e-16\n",
        "-6.57374392104e-17\n",
        "-6.94931912299e-17\n",
        "-5.96446010334e-17\n",
        "-1.06551373193e-16\n",
        "-1.46726513511e-16\n",
        "-1.73297238354e-16\n",
        "-1.47365527006e-16\n",
        "-1.46726059796e-16\n",
        "-1.32480815966e-16\n"
       ]
      }
     ],
     "prompt_number": 24
    },
    {
     "cell_type": "code",
     "collapsed": false,
     "input": [
      "range(1, len(t1)+1, 1)"
     ],
     "language": "python",
     "metadata": {},
     "outputs": [
      {
       "metadata": {},
       "output_type": "pyout",
       "prompt_number": 25,
       "text": [
        "[1,\n",
        " 2,\n",
        " 3,\n",
        " 4,\n",
        " 5,\n",
        " 6,\n",
        " 7,\n",
        " 8,\n",
        " 9,\n",
        " 10,\n",
        " 11,\n",
        " 12,\n",
        " 13,\n",
        " 14,\n",
        " 15,\n",
        " 16,\n",
        " 17,\n",
        " 18,\n",
        " 19,\n",
        " 20,\n",
        " 21,\n",
        " 22,\n",
        " 23,\n",
        " 24,\n",
        " 25,\n",
        " 26,\n",
        " 27,\n",
        " 28,\n",
        " 29,\n",
        " 30]"
       ]
      }
     ],
     "prompt_number": 25
    }
   ],
   "metadata": {}
  }
 ]
}