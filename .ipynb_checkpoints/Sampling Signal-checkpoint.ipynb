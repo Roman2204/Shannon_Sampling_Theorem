{
 "metadata": {
  "name": "",
  "signature": "sha256:17ddc2348fd530ca740450c28365d28187f6ac3ba2d0e4bc1bb7e532c1147772"
 },
 "nbformat": 3,
 "nbformat_minor": 0,
 "worksheets": [
  {
   "cells": [
    {
     "cell_type": "code",
     "collapsed": false,
     "input": [
      "import math\n",
      "import matplotlib.pyplot as plt\n",
      "import matplotlib.gridspec as gridspec\n",
      "from numpy import *"
     ],
     "language": "python",
     "metadata": {},
     "outputs": [],
     "prompt_number": 30
    },
    {
     "cell_type": "markdown",
     "metadata": {},
     "source": [
      "## \u041a\u043e\u043d\u0441\u0442\u0430\u043d\u0442\u044b"
     ]
    },
    {
     "cell_type": "code",
     "collapsed": false,
     "input": [
      "fs1 = 30 * 10**3\n",
      "fs2 = 50 * 10**3\n",
      "W = 10 * 10**3\n",
      "n = 16"
     ],
     "language": "python",
     "metadata": {},
     "outputs": [],
     "prompt_number": 169
    },
    {
     "cell_type": "markdown",
     "metadata": {},
     "source": [
      "## \u041d\u0435\u043f\u0440\u0435\u0440\u044b\u0432\u043d\u0430\u044f \u0444\u0443\u043d\u043a\u0446\u0438\u044f \u0441\u0438\u0433\u043d\u0430\u043b\u0430"
     ]
    },
    {
     "cell_type": "code",
     "collapsed": false,
     "input": [
      "def s(t):\n",
      "    return np.cos( 2 * np.pi * W * t )"
     ],
     "language": "python",
     "metadata": {},
     "outputs": [],
     "prompt_number": 31
    },
    {
     "cell_type": "markdown",
     "metadata": {},
     "source": [
      "## \u0417\u0430\u0434\u0430\u043d\u0438\u0435 \u043c\u043d\u043e\u0436\u0435\u0442\u0441\u0432\u0430 \u0442\u043e\u0447\u0435\u043a \u0432\u0440\u0435\u043c\u0435\u043d\u0438 \u0438 \u043f\u043e\u0434\u0441\u0447\u0451\u0442 \u0437\u043d\u0430\u0447\u0435\u043d\u0438\u044f \u0444\u0443\u043d\u043a\u0446\u0438\u0438 \u0432 \u044d\u0442\u0438\u0445 \u0442\u043e\u0447\u043a\u0430\u0445"
     ]
    },
    {
     "cell_type": "code",
     "collapsed": false,
     "input": [
      "t = linspace(0, float(5)/W, 10000)\n",
      "y = s(t)"
     ],
     "language": "python",
     "metadata": {},
     "outputs": [],
     "prompt_number": 32
    },
    {
     "cell_type": "markdown",
     "metadata": {},
     "source": [
      "## \u0417\u0430\u0434\u0430\u043d\u0438\u0435 \u0442\u043e\u0447\u0435\u043a \u0430\u043f\u0440\u043e\u0431\u0438\u0440\u043e\u0432\u0430\u043d\u0438\u044f \u0444\u0443\u043d\u043a\u0446\u0438\u0438 \u0441\u0438\u0433\u043d\u0430\u043b\u0430"
     ]
    },
    {
     "cell_type": "code",
     "collapsed": false,
     "input": [
      "determined_points = linspace(0, float(5)/W, 16)"
     ],
     "language": "python",
     "metadata": {},
     "outputs": [],
     "prompt_number": 75
    },
    {
     "cell_type": "code",
     "collapsed": false,
     "input": [
      "determined_points"
     ],
     "language": "python",
     "metadata": {},
     "outputs": [
      {
       "metadata": {},
       "output_type": "pyout",
       "prompt_number": 76,
       "text": [
        "array([  0.00000000e+00,   3.33333333e-05,   6.66666667e-05,\n",
        "         1.00000000e-04,   1.33333333e-04,   1.66666667e-04,\n",
        "         2.00000000e-04,   2.33333333e-04,   2.66666667e-04,\n",
        "         3.00000000e-04,   3.33333333e-04,   3.66666667e-04,\n",
        "         4.00000000e-04,   4.33333333e-04,   4.66666667e-04,\n",
        "         5.00000000e-04])"
       ]
      }
     ],
     "prompt_number": 76
    },
    {
     "cell_type": "markdown",
     "metadata": {},
     "source": [
      "## \u041f\u043e\u0441\u0442\u0440\u043e\u0435\u043d\u0438\u0435 \u0433\u0440\u0430\u0444\u0438\u043a\u0430 \u043f\u043e \u0442\u043e\u0447\u043a\u0430\u043c t \u0438 \u0437\u043d\u0430\u0447\u0435\u043d\u0438\u0435\u044f\u043c \u0444\u0443\u043d\u043a\u0446\u0438\u0438 \u0432 \u044d\u0442\u0438\u0445 \u0442\u043e\u0447\u043a\u0430\u0445 y = s(t)"
     ]
    },
    {
     "cell_type": "code",
     "collapsed": false,
     "input": [
      "plt.plot(t, y)\n",
      "plt.axis([0, float(5)/W, -1.5, 1.5])\n",
      "plt.xlabel('Time(s)')\n",
      "plt.ylabel('Amplitude')\n",
      "plt.title('Sampling Contiguous sinusoidal signal at fs1=30KHz')\n",
      "plt.stem(determined_points, s(determined_points), linefmt='r-', markerfmt='ro', basefmt='k-')\n",
      "plt.show()"
     ],
     "language": "python",
     "metadata": {},
     "outputs": [
      {
       "metadata": {},
       "output_type": "display_data",
       "png": "[encoded data removed]",
       "text": [
        "<matplotlib.figure.Figure at 0x892b770>"
       ]
      }
     ],
     "prompt_number": 79
    },
    {
     "cell_type": "code",
     "collapsed": false,
     "input": [],
     "language": "python",
     "metadata": {},
     "outputs": []
    },
    {
     "cell_type": "code",
     "collapsed": false,
     "input": [],
     "language": "python",
     "metadata": {},
     "outputs": []
    },
    {
     "cell_type": "code",
     "collapsed": false,
     "input": [],
     "language": "python",
     "metadata": {},
     "outputs": []
    },
    {
     "cell_type": "code",
     "collapsed": false,
     "input": [
      "def graph_1(ax):\n",
      "    ax.plot(t, y)\n",
      "    ax.set_xlabel('Time(s)')\n",
      "    ax.set_ylabel('Amplitude')\n",
      "    ax.set_title('Continuous sinusoidal signal')"
     ],
     "language": "python",
     "metadata": {},
     "outputs": [],
     "prompt_number": 34
    },
    {
     "cell_type": "code",
     "collapsed": false,
     "input": [
      "def graph_2(ax):\n",
      "    \n",
      "    fs1 = 30 * 10**3   ## 30kHz sampling rate\n",
      "    W = 10 * 10**3     ## Frequency of sinusoid\n",
      "    t1 = arange(0, float(5)/W, float(1)/(2*fs1))  ## time index\n",
      "    \n",
      "    ax.plot(t, y)\n",
      "    ax.axis([0, float(5)/W, -1.5, 1.5])\n",
      "    ax.stem(t1, s(t1), linefmt='r-', markerfmt='ro', basefmt='k-')\n",
      "    \n",
      "    ax.set_xlabel('Time(s)')\n",
      "    ax.set_ylabel('Amplitude')\n",
      "    ax.set_title('Sampling Continuous sinusoidal signal at fs1=30KHz')"
     ],
     "language": "python",
     "metadata": {},
     "outputs": [],
     "prompt_number": 27
    },
    {
     "cell_type": "code",
     "collapsed": false,
     "input": [
      "def graph_3(ax):\n",
      "    \n",
      "    fs2 = 50 * 10**3   ## 50kHz sampling rate\n",
      "    W = 10 * 10**3     ## Frequency of sinusoid\n",
      "    t2 = arange(0, float(5)/W, float(1)/(2*fs2))  ## time index\n",
      "    \n",
      "    ax.plot(t, y)\n",
      "    ax.axis([0, float(5)/W, -1.5, 1.5])\n",
      "    ax.stem(t2, s(t2), linefmt='r-', markerfmt='ro', basefmt='k-')\n",
      "    \n",
      "    ax.set_xlabel('Time(s)')\n",
      "    ax.set_ylabel('Amplitude')\n",
      "    ax.set_title('Sampling Continuous sinusoidal signal at fs1=50KHz')"
     ],
     "language": "python",
     "metadata": {},
     "outputs": [],
     "prompt_number": 28
    },
    {
     "cell_type": "code",
     "collapsed": false,
     "input": [
      "fig = plt.figure(figsize=(10, 10))\n",
      "gs1 = gridspec.GridSpec(3, 1)\n",
      "ax1 = fig.add_subplot(gs1[0])\n",
      "ax2 = fig.add_subplot(gs1[1])\n",
      "ax3 = fig.add_subplot(gs1[2])\n",
      "\n",
      "graph_1(ax1)\n",
      "graph_2(ax2)\n",
      "graph_3(ax3)\n",
      "\n",
      "gs1.update(left=0.1, bottom=0.1, right=0.95, top=0.95, wspace=0.2, hspace=0.5)\n",
      "\n",
      "plt.show()"
     ],
     "language": "python",
     "metadata": {},
     "outputs": []
    },
    {
     "cell_type": "code",
     "collapsed": false,
     "input": [],
     "language": "python",
     "metadata": {},
     "outputs": []
    },
    {
     "cell_type": "code",
     "collapsed": false,
     "input": [],
     "language": "python",
     "metadata": {},
     "outputs": []
    },
    {
     "cell_type": "code",
     "collapsed": false,
     "input": [
      "fs1 = 30 * 10**3   ## 30kHz sampling rate\n",
      "fs2 = 50 * 10**3   ## 50kHz sampling rate\n",
      "W = 10 * 10**3     ## Frequency of sinusoid\n",
      "t1 = arange(0, float(5)/W, float(1)/(2*fs1))  ## time index\n",
      "t2 = arange(0, float(5)/W, float(1)/(2*fs2))  ## time index"
     ],
     "language": "python",
     "metadata": {},
     "outputs": [],
     "prompt_number": 20
    },
    {
     "cell_type": "code",
     "collapsed": false,
     "input": [],
     "language": "python",
     "metadata": {},
     "outputs": []
    },
    {
     "cell_type": "code",
     "collapsed": false,
     "input": [
      "t1"
     ],
     "language": "python",
     "metadata": {},
     "outputs": [
      {
       "metadata": {},
       "output_type": "pyout",
       "prompt_number": 26,
       "text": [
        "array([  0.00000000e+00,   1.66666667e-05,   3.33333333e-05,\n",
        "         5.00000000e-05,   6.66666667e-05,   8.33333333e-05,\n",
        "         1.00000000e-04,   1.16666667e-04,   1.33333333e-04,\n",
        "         1.50000000e-04,   1.66666667e-04,   1.83333333e-04,\n",
        "         2.00000000e-04,   2.16666667e-04,   2.33333333e-04,\n",
        "         2.50000000e-04,   2.66666667e-04,   2.83333333e-04,\n",
        "         3.00000000e-04,   3.16666667e-04,   3.33333333e-04,\n",
        "         3.50000000e-04,   3.66666667e-04,   3.83333333e-04,\n",
        "         4.00000000e-04,   4.16666667e-04,   4.33333333e-04,\n",
        "         4.50000000e-04,   4.66666667e-04,   4.83333333e-04])"
       ]
      }
     ],
     "prompt_number": 26
    },
    {
     "cell_type": "code",
     "collapsed": false,
     "input": [
      "t1"
     ],
     "language": "python",
     "metadata": {},
     "outputs": [
      {
       "metadata": {},
       "output_type": "pyout",
       "prompt_number": 9,
       "text": [
        "array([  0.00000000e+00,   3.33333333e-05,   6.66666667e-05,\n",
        "         1.00000000e-04,   1.33333333e-04,   1.66666667e-04,\n",
        "         2.00000000e-04,   2.33333333e-04,   2.66666667e-04,\n",
        "         3.00000000e-04,   3.33333333e-04,   3.66666667e-04,\n",
        "         4.00000000e-04,   4.33333333e-04,   4.66666667e-04])"
       ]
      }
     ],
     "prompt_number": 9
    },
    {
     "cell_type": "code",
     "collapsed": false,
     "input": [
      "def Shannon_Fun(t):\n",
      "    summ = 0\n",
      "    for i in range(n):\n",
      "        summ += x1[i] * math.sin( 2*W*t*math.pi - n*math.pi ) / ( 2*W*t*math.pi - n*math.pi )\n",
      "    return summ"
     ],
     "language": "python",
     "metadata": {},
     "outputs": []
    },
    {
     "cell_type": "code",
     "collapsed": false,
     "input": [
      "float(1)/ (2*fs1)"
     ],
     "language": "python",
     "metadata": {},
     "outputs": [
      {
       "metadata": {},
       "output_type": "pyout",
       "prompt_number": 14,
       "text": [
        "1.6666666666666667e-05"
       ]
      }
     ],
     "prompt_number": 14
    },
    {
     "cell_type": "code",
     "collapsed": false,
     "input": [
      "t3 = arange(0, float(5)/W, float(1)/ (2*fs1))"
     ],
     "language": "python",
     "metadata": {},
     "outputs": [],
     "prompt_number": 15
    },
    {
     "cell_type": "code",
     "collapsed": false,
     "input": [
      "t3"
     ],
     "language": "python",
     "metadata": {},
     "outputs": [
      {
       "metadata": {},
       "output_type": "pyout",
       "prompt_number": 16,
       "text": [
        "array([  0.00000000e+00,   1.66666667e-05,   3.33333333e-05,\n",
        "         5.00000000e-05,   6.66666667e-05,   8.33333333e-05,\n",
        "         1.00000000e-04,   1.16666667e-04,   1.33333333e-04,\n",
        "         1.50000000e-04,   1.66666667e-04,   1.83333333e-04,\n",
        "         2.00000000e-04,   2.16666667e-04,   2.33333333e-04,\n",
        "         2.50000000e-04,   2.66666667e-04,   2.83333333e-04,\n",
        "         3.00000000e-04,   3.16666667e-04,   3.33333333e-04,\n",
        "         3.50000000e-04,   3.66666667e-04,   3.83333333e-04,\n",
        "         4.00000000e-04,   4.16666667e-04,   4.33333333e-04,\n",
        "         4.50000000e-04,   4.66666667e-04,   4.83333333e-04])"
       ]
      }
     ],
     "prompt_number": 16
    },
    {
     "cell_type": "code",
     "collapsed": false,
     "input": [
      "s(t3)"
     ],
     "language": "python",
     "metadata": {},
     "outputs": [
      {
       "metadata": {},
       "output_type": "pyout",
       "prompt_number": 17,
       "text": [
        "array([ 1. ,  0.5, -0.5, -1. , -0.5,  0.5,  1. ,  0.5, -0.5, -1. , -0.5,\n",
        "        0.5,  1. ,  0.5, -0.5, -1. , -0.5,  0.5,  1. ,  0.5, -0.5, -1. ,\n",
        "       -0.5,  0.5,  1. ,  0.5, -0.5, -1. , -0.5,  0.5])"
       ]
      }
     ],
     "prompt_number": 17
    }
   ],
   "metadata": {}
  }
 ]
}