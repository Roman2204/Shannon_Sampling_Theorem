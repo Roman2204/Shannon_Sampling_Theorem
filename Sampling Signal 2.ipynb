{
 "metadata": {
  "name": "",
  "signature": "sha256:a96f4093c88379389e681c40821d4856138455f6114d9e482832c923738999ea"
 },
 "nbformat": 3,
 "nbformat_minor": 0,
 "worksheets": [
  {
   "cells": [
    {
     "cell_type": "code",
     "collapsed": false,
     "input": [
      "import math\n",
      "import matplotlib.pyplot as plt\n",
      "import matplotlib.gridspec as gridspec\n",
      "from numpy import *"
     ],
     "language": "python",
     "metadata": {},
     "outputs": [],
     "prompt_number": 1
    },
    {
     "cell_type": "code",
     "collapsed": false,
     "input": [
      "Cycles_of_sinusoid = 5\n",
      "W = 10 * 10**3      ## Frequency of sinusoid\n",
      "fs1 = 5 * 10**3     ## 5KHz sampling rate\n",
      "fs2 = 7.5 * 10**3   ## 7.5KHz sampling rate\n",
      "fs3 = 10 * 10**3    ## 10KHz sampling rate\n",
      "fs4 = 15 * 10**3    ## 15KHz sampling rate\n",
      "fs5 = 30 * 10**3    ## 30KHz sampling rate\n",
      "fs6 = 50 * 10**3    ## 50KHz sampling rate\n",
      "fs7 = 100 * 10**3   ## 100KHz sampling rate\n",
      "time = linspace(0, float(Cycles_of_sinusoid)/W, 500 * 10**3)"
     ],
     "language": "python",
     "metadata": {},
     "outputs": [],
     "prompt_number": 2
    },
    {
     "cell_type": "markdown",
     "metadata": {},
     "source": [
      "### Contiguous sinusoidal signal function"
     ]
    },
    {
     "cell_type": "code",
     "collapsed": false,
     "input": [
      "def Contiguous_sinusoidal_signal(t):\n",
      "    return np.cos( 2 * np.pi * W * t )"
     ],
     "language": "python",
     "metadata": {},
     "outputs": [],
     "prompt_number": 3
    },
    {
     "cell_type": "code",
     "collapsed": false,
     "input": [
      "def Sampling_time(fs):\n",
      "    return linspace(0, float(Cycles_of_sinusoid)/W, (float(Cycles_of_sinusoid)/W) / ( float(1)/(2*fs) ) + 1 )"
     ],
     "language": "python",
     "metadata": {},
     "outputs": [],
     "prompt_number": 23
    },
    {
     "cell_type": "markdown",
     "metadata": {},
     "source": [
      "### Shannon Function\n",
      "\u0417\u043d\u0430\u0447\u0435\u043d\u0438\u044f f(n/2W) \u0438\u0437\u0432\u0435\u0441\u0442\u043d\u044b \u0438 \u0440\u0430\u0432\u043d\u044f\u044e\u0442\u0441\u044f Contiguous_sinusoidal_signal(sampling_time[n])"
     ]
    },
    {
     "cell_type": "code",
     "collapsed": false,
     "input": [
      "def Shannon_Function(t, fs):\n",
      "    sampling_time = Sampling_time(fs)  ## time index\n",
      "    \n",
      "    sum = 0\n",
      "    for n in range( len(sampling_time) ):\n",
      "        sum += Contiguous_sinusoidal_signal(sampling_time[n]) * np.sin( 2*fs*t*math.pi - n*np.pi ) / ( 2*fs*t*np.pi - n*np.pi )\n",
      "    return sum"
     ],
     "language": "python",
     "metadata": {},
     "outputs": [],
     "prompt_number": 5
    },
    {
     "cell_type": "markdown",
     "metadata": {},
     "source": [
      "### 0) Graph of contiguous sinusoidal signal function"
     ]
    },
    {
     "cell_type": "code",
     "collapsed": false,
     "input": [
      "def graph_signal(ax):\n",
      "\n",
      "    ax.plot(time, Contiguous_sinusoidal_signal(time))\n",
      "    \n",
      "    ax.axis([0, float(Cycles_of_sinusoid)/W, -1.5, 1.5])\n",
      "    ax.set_xlabel('Time(s)', fontsize=15)\n",
      "    ax.set_ylabel('Amplitude', fontsize=15)\n",
      "    ax.set_title('Continuous sinusoidal signal', fontsize=20)"
     ],
     "language": "python",
     "metadata": {},
     "outputs": [],
     "prompt_number": 6
    },
    {
     "cell_type": "markdown",
     "metadata": {},
     "source": [
      "## 5KHz"
     ]
    },
    {
     "cell_type": "markdown",
     "metadata": {},
     "source": [
      "### 1) Graph of contiguous sinusoidal signal function with sampling rate 2*fs1"
     ]
    },
    {
     "cell_type": "code",
     "collapsed": false,
     "input": [
      "def graph_signal_fs1(ax):\n",
      "    \n",
      "    sampling_time = Sampling_time(fs1)  ## time index\n",
      "    \n",
      "    ax.plot(time, Contiguous_sinusoidal_signal(time))\n",
      "    ax.stem(sampling_time, Contiguous_sinusoidal_signal(sampling_time), linefmt='r-', markerfmt='ro', basefmt='k-')\n",
      "    \n",
      "    ax.axis([0, float(Cycles_of_sinusoid)/W, -1.5, 1.5])\n",
      "    ax.set_xlabel('Time(s)', fontsize=15)\n",
      "    ax.set_ylabel('Amplitude', fontsize=15)\n",
      "    ax.set_title('Sampling Continuous sinusoidal signal at $f_{s1}$=5KHz', fontsize=20)"
     ],
     "language": "python",
     "metadata": {},
     "outputs": [],
     "prompt_number": 7
    },
    {
     "cell_type": "markdown",
     "metadata": {},
     "source": [
      "### 1) Graph of reconstructed contiguous sinusoidal signal function with sampling rate 2*fs1"
     ]
    },
    {
     "cell_type": "code",
     "collapsed": false,
     "input": [
      "def graph_signal_fs1_reconstructed(ax):\n",
      "\n",
      "    sampling_time = Sampling_time(fs1)  ## time index\n",
      "    \n",
      "    ax.plot(time, Shannon_Function(time, fs1))\n",
      "    ax.stem(sampling_time, Contiguous_sinusoidal_signal(sampling_time), linefmt='r-', markerfmt='ro', basefmt='k-')\n",
      "    \n",
      "    ax.axis([0, float(Cycles_of_sinusoid)/W, -1.5, 1.5])\n",
      "    ax.set_xlabel('Time(s)', fontsize=15)\n",
      "    ax.set_ylabel('Amplitude', fontsize=15)\n",
      "    ax.set_title('Reconstructed continuous sinusoidal signal at $f_{s1}$=5KHz', fontsize=20)"
     ],
     "language": "python",
     "metadata": {},
     "outputs": [],
     "prompt_number": 8
    },
    {
     "cell_type": "markdown",
     "metadata": {},
     "source": [
      "## 7.5KHz"
     ]
    },
    {
     "cell_type": "markdown",
     "metadata": {},
     "source": [
      "### 2) Graph of contiguous sinusoidal signal function with sampling rate 2*fs2"
     ]
    },
    {
     "cell_type": "code",
     "collapsed": false,
     "input": [
      "def graph_signal_fs2(ax):\n",
      "    \n",
      "    sampling_time = Sampling_time(fs2)  ## time index\n",
      "    \n",
      "    ax.plot(time, Contiguous_sinusoidal_signal(time))\n",
      "    ax.stem(sampling_time, Contiguous_sinusoidal_signal(sampling_time), linefmt='r-', markerfmt='ro', basefmt='k-')\n",
      "    \n",
      "    ax.axis([0, float(Cycles_of_sinusoid)/W, -1.5, 1.5])\n",
      "    ax.set_xlabel('Time(s)', fontsize=15)\n",
      "    ax.set_ylabel('Amplitude', fontsize=15)\n",
      "    ax.set_title('Sampling Continuous sinusoidal signal at $f_{s2}$=7.5KHz', fontsize=20)"
     ],
     "language": "python",
     "metadata": {},
     "outputs": [],
     "prompt_number": 9
    },
    {
     "cell_type": "markdown",
     "metadata": {},
     "source": [
      "### 2) Graph of reconstructed contiguous sinusoidal signal function with sampling rate 2*fs2"
     ]
    },
    {
     "cell_type": "code",
     "collapsed": false,
     "input": [
      "def graph_signal_fs2_reconstructed(ax):\n",
      "\n",
      "    sampling_time = Sampling_time(fs2)  ## time index\n",
      "    \n",
      "    ax.plot(time, Shannon_Function(time, fs2))\n",
      "    ax.stem(sampling_time, Contiguous_sinusoidal_signal(sampling_time), linefmt='r-', markerfmt='ro', basefmt='k-')\n",
      "    \n",
      "    ax.axis([0, float(Cycles_of_sinusoid)/W, -1.5, 1.5])\n",
      "    ax.set_xlabel('Time(s)', fontsize=15)\n",
      "    ax.set_ylabel('Amplitude', fontsize=15)\n",
      "    ax.set_title('Reconstructed continuous sinusoidal signal at $f_{s2}$=7.5KHz', fontsize=20)"
     ],
     "language": "python",
     "metadata": {},
     "outputs": [],
     "prompt_number": 10
    },
    {
     "cell_type": "markdown",
     "metadata": {},
     "source": [
      "## 10KHz"
     ]
    },
    {
     "cell_type": "markdown",
     "metadata": {},
     "source": [
      "### 3) Graph of contiguous sinusoidal signal function with sampling rate 2*fs3"
     ]
    },
    {
     "cell_type": "code",
     "collapsed": false,
     "input": [
      "def graph_signal_fs3(ax):\n",
      "    \n",
      "    sampling_time = Sampling_time(fs3)  ## time index\n",
      "    \n",
      "    ax.plot(time, Contiguous_sinusoidal_signal(time))\n",
      "    ax.stem(sampling_time, Contiguous_sinusoidal_signal(sampling_time), linefmt='r-', markerfmt='ro', basefmt='k-')\n",
      "    \n",
      "    ax.axis([0, float(Cycles_of_sinusoid)/W, -1.5, 1.5])\n",
      "    ax.set_xlabel('Time(s)', fontsize=15)\n",
      "    ax.set_ylabel('Amplitude', fontsize=15)\n",
      "    ax.set_title('Sampling Continuous sinusoidal signal at $f_{s3}$=10KHz', fontsize=20)"
     ],
     "language": "python",
     "metadata": {},
     "outputs": [],
     "prompt_number": 11
    },
    {
     "cell_type": "markdown",
     "metadata": {},
     "source": [
      "### 3) Graph of reconstructed contiguous sinusoidal signal function with sampling rate 2*fs3"
     ]
    },
    {
     "cell_type": "code",
     "collapsed": false,
     "input": [
      "def graph_signal_fs3_reconstructed(ax):\n",
      "\n",
      "    sampling_time = Sampling_time(fs3)  ## time index\n",
      "    \n",
      "    ax.plot(time, Shannon_Function(time, fs3))\n",
      "    ax.stem(sampling_time, Contiguous_sinusoidal_signal(sampling_time), linefmt='r-', markerfmt='ro', basefmt='k-')\n",
      "    \n",
      "    ax.axis([0, float(Cycles_of_sinusoid)/W, -1.5, 1.5])\n",
      "    ax.set_xlabel('Time(s)', fontsize=15)\n",
      "    ax.set_ylabel('Amplitude', fontsize=15)\n",
      "    ax.set_title('Reconstructed continuous sinusoidal signal at $f_{s3}$=10KHz', fontsize=20)"
     ],
     "language": "python",
     "metadata": {},
     "outputs": [],
     "prompt_number": 12
    },
    {
     "cell_type": "markdown",
     "metadata": {},
     "source": [
      "## 15KHz"
     ]
    },
    {
     "cell_type": "markdown",
     "metadata": {},
     "source": [
      "### 4) Graph of contiguous sinusoidal signal function with sampling rate 2*fs4"
     ]
    },
    {
     "cell_type": "code",
     "collapsed": false,
     "input": [
      "def graph_signal_fs4(ax):\n",
      "    \n",
      "    sampling_time = Sampling_time(fs4)  ## time index\n",
      "    \n",
      "    ax.plot(time, Contiguous_sinusoidal_signal(time))\n",
      "    ax.stem(sampling_time, Contiguous_sinusoidal_signal(sampling_time), linefmt='r-', markerfmt='ro', basefmt='k-')\n",
      "    \n",
      "    ax.axis([0, float(Cycles_of_sinusoid)/W, -1.5, 1.5])\n",
      "    ax.set_xlabel('Time(s)', fontsize=15)\n",
      "    ax.set_ylabel('Amplitude', fontsize=15)\n",
      "    ax.set_title('Sampling Continuous sinusoidal signal at $f_{s4}$=15KHz', fontsize=20)"
     ],
     "language": "python",
     "metadata": {},
     "outputs": [],
     "prompt_number": 13
    },
    {
     "cell_type": "markdown",
     "metadata": {},
     "source": [
      "### 4) Graph of reconstructed contiguous sinusoidal signal function with sampling rate 2*fs4"
     ]
    },
    {
     "cell_type": "code",
     "collapsed": false,
     "input": [
      "def graph_signal_fs4_reconstructed(ax):\n",
      "\n",
      "    sampling_time = Sampling_time(fs4)  ## time index\n",
      "    \n",
      "    ax.plot(time, Shannon_Function(time, fs4))\n",
      "    ax.stem(sampling_time, Contiguous_sinusoidal_signal(sampling_time), linefmt='r-', markerfmt='ro', basefmt='k-')\n",
      "    \n",
      "    ax.axis([0, float(Cycles_of_sinusoid)/W, -1.5, 1.5])\n",
      "    ax.set_xlabel('Time(s)', fontsize=15)\n",
      "    ax.set_ylabel('Amplitude', fontsize=15)\n",
      "    ax.set_title('Reconstructed continuous sinusoidal signal at $f_{s4}$=15KHz', fontsize=20)"
     ],
     "language": "python",
     "metadata": {},
     "outputs": [],
     "prompt_number": 14
    },
    {
     "cell_type": "markdown",
     "metadata": {},
     "source": [
      "## 30KHz"
     ]
    },
    {
     "cell_type": "markdown",
     "metadata": {},
     "source": [
      "### 5) Graph of contiguous sinusoidal signal function with sampling rate 2*fs5"
     ]
    },
    {
     "cell_type": "code",
     "collapsed": false,
     "input": [
      "def graph_signal_fs5(ax):\n",
      "    \n",
      "    sampling_time = Sampling_time(fs5)  ## time index\n",
      "    \n",
      "    ax.plot(time, Contiguous_sinusoidal_signal(time))\n",
      "    ax.stem(sampling_time, Contiguous_sinusoidal_signal(sampling_time), linefmt='r-', markerfmt='ro', basefmt='k-')\n",
      "    \n",
      "    ax.axis([0, float(Cycles_of_sinusoid)/W, -1.5, 1.5])\n",
      "    ax.set_xlabel('Time(s)', fontsize=15)\n",
      "    ax.set_ylabel('Amplitude', fontsize=15)\n",
      "    ax.set_title('Sampling Continuous sinusoidal signal at $f_{s5}$=30KHz', fontsize=20)"
     ],
     "language": "python",
     "metadata": {},
     "outputs": [],
     "prompt_number": 15
    },
    {
     "cell_type": "markdown",
     "metadata": {},
     "source": [
      "### 5) Graph of reconstructed contiguous sinusoidal signal function with sampling rate 2*fs5"
     ]
    },
    {
     "cell_type": "code",
     "collapsed": false,
     "input": [
      "def graph_signal_fs5_reconstructed(ax):\n",
      "\n",
      "    sampling_time = Sampling_time(fs5)  ## time index\n",
      "    \n",
      "    ax.plot(time, Shannon_Function(time, fs5))\n",
      "    ax.stem(sampling_time, Contiguous_sinusoidal_signal(sampling_time), linefmt='r-', markerfmt='ro', basefmt='k-')\n",
      "    \n",
      "    ax.axis([0, float(Cycles_of_sinusoid)/W, -1.5, 1.5])\n",
      "    ax.set_xlabel('Time(s)', fontsize=15)\n",
      "    ax.set_ylabel('Amplitude', fontsize=15)\n",
      "    ax.set_title('Reconstructed continuous sinusoidal signal at $f_{s5}$=30KHz', fontsize=20)"
     ],
     "language": "python",
     "metadata": {},
     "outputs": [],
     "prompt_number": 16
    },
    {
     "cell_type": "markdown",
     "metadata": {},
     "source": [
      "## 50KHz"
     ]
    },
    {
     "cell_type": "markdown",
     "metadata": {},
     "source": [
      "### 6) Graph of contiguous sinusoidal signal function with sampling rate 2*fs6"
     ]
    },
    {
     "cell_type": "code",
     "collapsed": false,
     "input": [
      "def graph_signal_fs6(ax):\n",
      "    \n",
      "    sampling_time = Sampling_time(fs6)  ## time index\n",
      "    \n",
      "    ax.plot(time, Contiguous_sinusoidal_signal(time))\n",
      "    ax.stem(sampling_time, Contiguous_sinusoidal_signal(sampling_time), linefmt='r-', markerfmt='ro', basefmt='k-')\n",
      "    \n",
      "    ax.axis([0, float(Cycles_of_sinusoid)/W, -1.5, 1.5])\n",
      "    ax.set_xlabel('Time(s)', fontsize=15)\n",
      "    ax.set_ylabel('Amplitude', fontsize=15)\n",
      "    ax.set_title('Sampling Continuous sinusoidal signal at $f_{s6}$=50KHz', fontsize=20)"
     ],
     "language": "python",
     "metadata": {},
     "outputs": [],
     "prompt_number": 17
    },
    {
     "cell_type": "markdown",
     "metadata": {},
     "source": [
      "### 6) Graph of reconstructed contiguous sinusoidal signal function with sampling rate 2*fs6"
     ]
    },
    {
     "cell_type": "code",
     "collapsed": false,
     "input": [
      "def graph_signal_fs6_reconstructed(ax):\n",
      "\n",
      "    sampling_time = Sampling_time(fs6)  ## time index\n",
      "    \n",
      "    ax.plot(time, Shannon_Function(time, fs6))\n",
      "    ax.stem(sampling_time, Contiguous_sinusoidal_signal(sampling_time), linefmt='r-', markerfmt='ro', basefmt='k-')\n",
      "    \n",
      "    ax.axis([0, float(Cycles_of_sinusoid)/W, -1.5, 1.5])\n",
      "    ax.set_xlabel('Time(s)', fontsize=15)\n",
      "    ax.set_ylabel('Amplitude', fontsize=15)\n",
      "    ax.set_title('Reconstructed continuous sinusoidal signal at $f_{s6}$=50KHz', fontsize=20)"
     ],
     "language": "python",
     "metadata": {},
     "outputs": [],
     "prompt_number": 18
    },
    {
     "cell_type": "markdown",
     "metadata": {},
     "source": [
      "## 100KHz"
     ]
    },
    {
     "cell_type": "markdown",
     "metadata": {},
     "source": [
      "### 7) Graph of contiguous sinusoidal signal function with sampling rate 2*fs7"
     ]
    },
    {
     "cell_type": "code",
     "collapsed": false,
     "input": [
      "def graph_signal_fs7(ax):\n",
      "    \n",
      "    sampling_time = Sampling_time(fs7)  ## time index\n",
      "    \n",
      "    ax.plot(time, Contiguous_sinusoidal_signal(time))\n",
      "    ax.stem(sampling_time, Contiguous_sinusoidal_signal(sampling_time), linefmt='r-', markerfmt='ro', basefmt='k-')\n",
      "    \n",
      "    ax.axis([0, float(Cycles_of_sinusoid)/W, -1.5, 1.5])\n",
      "    ax.set_xlabel('Time(s)', fontsize=15)\n",
      "    ax.set_ylabel('Amplitude', fontsize=15)\n",
      "    ax.set_title('Sampling Continuous sinusoidal signal at $f_{s7}$=100KHz', fontsize=20)"
     ],
     "language": "python",
     "metadata": {},
     "outputs": [],
     "prompt_number": 19
    },
    {
     "cell_type": "markdown",
     "metadata": {},
     "source": [
      "### 7) Graph of reconstructed contiguous sinusoidal signal function with sampling rate 2*fs7"
     ]
    },
    {
     "cell_type": "code",
     "collapsed": false,
     "input": [
      "def graph_signal_fs7_reconstructed(ax):\n",
      "\n",
      "    sampling_time = Sampling_time(fs7)  ## time index\n",
      "    \n",
      "    ax.plot(time, Shannon_Function(time, fs7))\n",
      "    ax.stem(sampling_time, Contiguous_sinusoidal_signal(sampling_time), linefmt='r-', markerfmt='ro', basefmt='k-')\n",
      "    \n",
      "    ax.axis([0, float(Cycles_of_sinusoid)/W, -1.5, 1.5])\n",
      "    ax.set_xlabel('Time(s)', fontsize=15)\n",
      "    ax.set_ylabel('Amplitude', fontsize=15)\n",
      "    ax.set_title('Reconstructed continuous sinusoidal signal at $f_{s7}$=100KHz', fontsize=20)"
     ],
     "language": "python",
     "metadata": {},
     "outputs": [],
     "prompt_number": 20
    },
    {
     "cell_type": "markdown",
     "metadata": {},
     "source": [
      "### Print contiguous sinusoidal signal function"
     ]
    },
    {
     "cell_type": "code",
     "collapsed": false,
     "input": [
      "fig = plt.figure(figsize=(20, 55))\n",
      "gs1 = gridspec.GridSpec(15, 1)\n",
      "ax0 = fig.add_subplot(gs1[0])\n",
      "ax1 = fig.add_subplot(gs1[1])\n",
      "ax2 = fig.add_subplot(gs1[2])\n",
      "ax3 = fig.add_subplot(gs1[3])\n",
      "ax4 = fig.add_subplot(gs1[4])\n",
      "ax5 = fig.add_subplot(gs1[5])\n",
      "ax6 = fig.add_subplot(gs1[6])\n",
      "ax7 = fig.add_subplot(gs1[7])\n",
      "ax8 = fig.add_subplot(gs1[8])\n",
      "ax9 = fig.add_subplot(gs1[9])\n",
      "ax10 = fig.add_subplot(gs1[10])\n",
      "ax11 = fig.add_subplot(gs1[11])\n",
      "ax12 = fig.add_subplot(gs1[12])\n",
      "ax13 = fig.add_subplot(gs1[13])\n",
      "ax14 = fig.add_subplot(gs1[14])\n",
      "\n",
      "graph_signal(ax0)\n",
      "graph_signal_fs1(ax1)\n",
      "graph_signal_fs1_reconstructed(ax2)\n",
      "graph_signal_fs2(ax3)\n",
      "graph_signal_fs2_reconstructed(ax4)\n",
      "graph_signal_fs3(ax5)\n",
      "graph_signal_fs3_reconstructed(ax6)\n",
      "graph_signal_fs4(ax7)\n",
      "graph_signal_fs4_reconstructed(ax8)\n",
      "graph_signal_fs5(ax9)\n",
      "graph_signal_fs5_reconstructed(ax10)\n",
      "graph_signal_fs6(ax11)\n",
      "graph_signal_fs6_reconstructed(ax12)\n",
      "graph_signal_fs7(ax13)\n",
      "graph_signal_fs7_reconstructed(ax14)\n",
      "\n",
      "gs1.update(left=0.1, bottom=0.1, right=0.95, top=0.95, wspace=0.5, hspace=0.5)\n",
      "\n",
      "plt.show()"
     ],
     "language": "python",
     "metadata": {},
     "outputs": [],
     "prompt_number": 22
    }
   ],
   "metadata": {}
  }
 ]
}